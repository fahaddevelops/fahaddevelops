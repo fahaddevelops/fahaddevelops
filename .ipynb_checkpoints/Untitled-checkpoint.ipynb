{
 "cells": [
  {
   "cell_type": "code",
   "execution_count": 1,
   "id": "efe1e3a0-f72b-41e0-832f-0fdb7477a0e9",
   "metadata": {},
   "outputs": [],
   "source": [
    "import re\n",
    "import pandas as pd\n"
   ]
  },
  {
   "cell_type": "code",
   "execution_count": 2,
   "id": "dff92cf0-6785-49ad-a0ce-0a1f6670a06d",
   "metadata": {},
   "outputs": [],
   "source": [
    "f = open('chats.txt', 'r', encoding = 'utf-8')"
   ]
  },
  {
   "cell_type": "code",
   "execution_count": 3,
   "id": "e4d35603-9510-4ffb-b517-f565a26c8fda",
   "metadata": {},
   "outputs": [],
   "source": [
    "data = f.read()\n",
    "pattern = r'(\\d{1,2}/\\d{1,2}/\\d{4},\\s\\d{1,2}:\\d{2}\\s[APapMm]{2}\\s-\\s)(.*)'\n"
   ]
  },
  {
   "cell_type": "code",
   "execution_count": 4,
   "id": "c367518e-4210-488a-aae8-d7d297319528",
   "metadata": {},
   "outputs": [],
   "source": [
    "msgs = re.findall(pattern, data)\n",
    "user_msg = []\n",
    "msg_date = []\n",
    "\n",
    "for date, msg in msgs:\n",
    "    user_msg.append(msg)\n",
    "    msg_date.append(date.strip())  # Remove extra spaces\n",
    "\n"
   ]
  },
  {
   "cell_type": "code",
   "execution_count": 5,
   "id": "facdd43b-193b-4483-bb24-9305d4ce8e21",
   "metadata": {},
   "outputs": [],
   "source": [
    "df = pd.DataFrame({'user_msg': user_msg, 'msg_date': msg_date})\n",
    "# convert msgs date type"
   ]
  },
  {
   "cell_type": "code",
   "execution_count": 6,
   "id": "e99f815a-314a-43dc-817c-c0f4baae9184",
   "metadata": {},
   "outputs": [
    {
     "data": {
      "text/html": [
       "<div>\n",
       "<style scoped>\n",
       "    .dataframe tbody tr th:only-of-type {\n",
       "        vertical-align: middle;\n",
       "    }\n",
       "\n",
       "    .dataframe tbody tr th {\n",
       "        vertical-align: top;\n",
       "    }\n",
       "\n",
       "    .dataframe thead th {\n",
       "        text-align: right;\n",
       "    }\n",
       "</style>\n",
       "<table border=\"1\" class=\"dataframe\">\n",
       "  <thead>\n",
       "    <tr style=\"text-align: right;\">\n",
       "      <th></th>\n",
       "      <th>user_msg</th>\n",
       "      <th>date</th>\n",
       "    </tr>\n",
       "  </thead>\n",
       "  <tbody>\n",
       "    <tr>\n",
       "      <th>0</th>\n",
       "      <td>Messages and calls are end-to-end encrypted. N...</td>\n",
       "      <td>2023-04-30 10:47:00</td>\n",
       "    </tr>\n",
       "    <tr>\n",
       "      <th>1</th>\n",
       "      <td>Group creator created group \"Kaar e kamal Team...</td>\n",
       "      <td>2020-03-16 15:53:00</td>\n",
       "    </tr>\n",
       "    <tr>\n",
       "      <th>2</th>\n",
       "      <td>Rana Bilal Yousaf Sponsership added you</td>\n",
       "      <td>2023-04-30 10:45:00</td>\n",
       "    </tr>\n",
       "    <tr>\n",
       "      <th>3</th>\n",
       "      <td>+92 341 6669613: Assalam O alaikum</td>\n",
       "      <td>2023-04-30 11:02:00</td>\n",
       "    </tr>\n",
       "    <tr>\n",
       "      <th>4</th>\n",
       "      <td>+92 341 6669613: @923214701483 @923060228783</td>\n",
       "      <td>2023-04-30 11:03:00</td>\n",
       "    </tr>\n",
       "  </tbody>\n",
       "</table>\n",
       "</div>"
      ],
      "text/plain": [
       "                                            user_msg                date\n",
       "0  Messages and calls are end-to-end encrypted. N... 2023-04-30 10:47:00\n",
       "1  Group creator created group \"Kaar e kamal Team... 2020-03-16 15:53:00\n",
       "2            Rana Bilal Yousaf Sponsership added you 2023-04-30 10:45:00\n",
       "3                 +92 341 6669613: Assalam O alaikum 2023-04-30 11:02:00\n",
       "4       +92 341 6669613: @923214701483 @923060228783 2023-04-30 11:03:00"
      ]
     },
     "execution_count": 6,
     "metadata": {},
     "output_type": "execute_result"
    }
   ],
   "source": [
    "df['msg_date'] = pd.to_datetime(df['msg_date'], format='%d/%m/%Y, %I:%M %p -')\n",
    "\n",
    "df.rename(columns = {'msg_date': 'date'}, inplace = True)\n",
    "df.head()"
   ]
  },
  {
   "cell_type": "code",
   "execution_count": 7,
   "id": "cf053368-ce93-4a19-9541-8f1858fa8cbd",
   "metadata": {},
   "outputs": [
    {
     "data": {
      "text/plain": [
       "(25958, 2)"
      ]
     },
     "execution_count": 7,
     "metadata": {},
     "output_type": "execute_result"
    }
   ],
   "source": [
    "df.shape\n"
   ]
  },
  {
   "cell_type": "code",
   "execution_count": 8,
   "id": "e307294a-208f-40dd-bcd7-19789de9e7dd",
   "metadata": {},
   "outputs": [
    {
     "data": {
      "text/html": [
       "<div>\n",
       "<style scoped>\n",
       "    .dataframe tbody tr th:only-of-type {\n",
       "        vertical-align: middle;\n",
       "    }\n",
       "\n",
       "    .dataframe tbody tr th {\n",
       "        vertical-align: top;\n",
       "    }\n",
       "\n",
       "    .dataframe thead th {\n",
       "        text-align: right;\n",
       "    }\n",
       "</style>\n",
       "<table border=\"1\" class=\"dataframe\">\n",
       "  <thead>\n",
       "    <tr style=\"text-align: right;\">\n",
       "      <th></th>\n",
       "      <th>date</th>\n",
       "      <th>user</th>\n",
       "      <th>message</th>\n",
       "    </tr>\n",
       "  </thead>\n",
       "  <tbody>\n",
       "    <tr>\n",
       "      <th>0</th>\n",
       "      <td>2023-04-30 10:47:00</td>\n",
       "      <td>Group_notification</td>\n",
       "      <td>Messages and calls are end-to-end encrypted. N...</td>\n",
       "    </tr>\n",
       "    <tr>\n",
       "      <th>1</th>\n",
       "      <td>2020-03-16 15:53:00</td>\n",
       "      <td>Group_notification</td>\n",
       "      <td>Group creator created group \"Kaar e kamal Team...</td>\n",
       "    </tr>\n",
       "    <tr>\n",
       "      <th>2</th>\n",
       "      <td>2023-04-30 10:45:00</td>\n",
       "      <td>Group_notification</td>\n",
       "      <td>Rana Bilal Yousaf Sponsership added you</td>\n",
       "    </tr>\n",
       "    <tr>\n",
       "      <th>3</th>\n",
       "      <td>2023-04-30 11:02:00</td>\n",
       "      <td>+92 341 6669613</td>\n",
       "      <td>Assalam O alaikum</td>\n",
       "    </tr>\n",
       "    <tr>\n",
       "      <th>4</th>\n",
       "      <td>2023-04-30 11:03:00</td>\n",
       "      <td>+92 341 6669613</td>\n",
       "      <td>@923214701483 @923060228783</td>\n",
       "    </tr>\n",
       "    <tr>\n",
       "      <th>5</th>\n",
       "      <td>2023-04-30 11:55:00</td>\n",
       "      <td>Group_notification</td>\n",
       "      <td>+92 326 1800716 joined using this group's invi...</td>\n",
       "    </tr>\n",
       "    <tr>\n",
       "      <th>6</th>\n",
       "      <td>2023-04-30 11:58:00</td>\n",
       "      <td>+92 305 1478150</td>\n",
       "      <td>B+ Blood  required</td>\n",
       "    </tr>\n",
       "    <tr>\n",
       "      <th>7</th>\n",
       "      <td>2023-04-30 12:04:00</td>\n",
       "      <td>+92 305 1478150</td>\n",
       "      <td>Urgent *</td>\n",
       "    </tr>\n",
       "    <tr>\n",
       "      <th>8</th>\n",
       "      <td>2023-04-30 12:04:00</td>\n",
       "      <td>Zainab Shahbaz</td>\n",
       "      <td>@923060228783 @923104163991</td>\n",
       "    </tr>\n",
       "    <tr>\n",
       "      <th>9</th>\n",
       "      <td>2023-04-30 12:21:00</td>\n",
       "      <td>+92 310 4734827</td>\n",
       "      <td>*Hey there📱👋!*</td>\n",
       "    </tr>\n",
       "    <tr>\n",
       "      <th>10</th>\n",
       "      <td>2023-04-30 12:21:00</td>\n",
       "      <td>+92 310 4734827</td>\n",
       "      <td>Kindly ye form fill kr den</td>\n",
       "    </tr>\n",
       "    <tr>\n",
       "      <th>11</th>\n",
       "      <td>2023-04-30 12:21:00</td>\n",
       "      <td>+92 310 4734827</td>\n",
       "      <td>Kisi ka research work hey ose chaheyen please</td>\n",
       "    </tr>\n",
       "    <tr>\n",
       "      <th>12</th>\n",
       "      <td>2023-04-30 14:55:00</td>\n",
       "      <td>Engr. M. Shahid</td>\n",
       "      <td>&lt;Media omitted&gt;</td>\n",
       "    </tr>\n",
       "    <tr>\n",
       "      <th>13</th>\n",
       "      <td>2023-04-30 14:56:00</td>\n",
       "      <td>afaqz Zaheer Kk</td>\n",
       "      <td>Ameen Sum Ameen 🥺🤲🏻</td>\n",
       "    </tr>\n",
       "    <tr>\n",
       "      <th>14</th>\n",
       "      <td>2023-04-30 15:18:00</td>\n",
       "      <td>Noor Awan ❤️</td>\n",
       "      <td>Ma'sha'allah Sirrrr</td>\n",
       "    </tr>\n",
       "  </tbody>\n",
       "</table>\n",
       "</div>"
      ],
      "text/plain": [
       "                  date                user  \\\n",
       "0  2023-04-30 10:47:00  Group_notification   \n",
       "1  2020-03-16 15:53:00  Group_notification   \n",
       "2  2023-04-30 10:45:00  Group_notification   \n",
       "3  2023-04-30 11:02:00     +92 341 6669613   \n",
       "4  2023-04-30 11:03:00     +92 341 6669613   \n",
       "5  2023-04-30 11:55:00  Group_notification   \n",
       "6  2023-04-30 11:58:00     +92 305 1478150   \n",
       "7  2023-04-30 12:04:00     +92 305 1478150   \n",
       "8  2023-04-30 12:04:00      Zainab Shahbaz   \n",
       "9  2023-04-30 12:21:00     +92 310 4734827   \n",
       "10 2023-04-30 12:21:00     +92 310 4734827   \n",
       "11 2023-04-30 12:21:00     +92 310 4734827   \n",
       "12 2023-04-30 14:55:00     Engr. M. Shahid   \n",
       "13 2023-04-30 14:56:00     afaqz Zaheer Kk   \n",
       "14 2023-04-30 15:18:00        Noor Awan ❤️   \n",
       "\n",
       "                                              message  \n",
       "0   Messages and calls are end-to-end encrypted. N...  \n",
       "1   Group creator created group \"Kaar e kamal Team...  \n",
       "2             Rana Bilal Yousaf Sponsership added you  \n",
       "3                                   Assalam O alaikum  \n",
       "4                         @923214701483 @923060228783  \n",
       "5   +92 326 1800716 joined using this group's invi...  \n",
       "6                                 B+ Blood  required   \n",
       "7                                            Urgent *  \n",
       "8                         @923060228783 @923104163991  \n",
       "9                                      *Hey there📱👋!*  \n",
       "10                         Kindly ye form fill kr den  \n",
       "11      Kisi ka research work hey ose chaheyen please  \n",
       "12                                    <Media omitted>  \n",
       "13                                Ameen Sum Ameen 🥺🤲🏻  \n",
       "14                                Ma'sha'allah Sirrrr  "
      ]
     },
     "execution_count": 8,
     "metadata": {},
     "output_type": "execute_result"
    }
   ],
   "source": [
    "users = []\n",
    "messages = []\n",
    "\n",
    "for msg in df['user_msg']:  \n",
    "    entry = re.split('([\\w\\W]+?):\\s', msg)\n",
    "    if entry[1:]:\n",
    "        users.append(entry[1])\n",
    "        messages.append(entry[2])\n",
    "    else:\n",
    "        users.append('Group_notification')\n",
    "        messages.append(entry[0])\n",
    "\n",
    "df['user'] = users\n",
    "df['message'] = messages\n",
    "\n",
    "df.drop(columns=['user_msg'], inplace=True)\n",
    "\n",
    "df.head(15)\n",
    "\n"
   ]
  },
  {
   "cell_type": "code",
   "execution_count": 9,
   "id": "e643e008-c20d-4729-b5b4-a52dd2375114",
   "metadata": {},
   "outputs": [
    {
     "data": {
      "text/html": [
       "<div>\n",
       "<style scoped>\n",
       "    .dataframe tbody tr th:only-of-type {\n",
       "        vertical-align: middle;\n",
       "    }\n",
       "\n",
       "    .dataframe tbody tr th {\n",
       "        vertical-align: top;\n",
       "    }\n",
       "\n",
       "    .dataframe thead th {\n",
       "        text-align: right;\n",
       "    }\n",
       "</style>\n",
       "<table border=\"1\" class=\"dataframe\">\n",
       "  <thead>\n",
       "    <tr style=\"text-align: right;\">\n",
       "      <th></th>\n",
       "      <th>date</th>\n",
       "      <th>user</th>\n",
       "      <th>message</th>\n",
       "    </tr>\n",
       "  </thead>\n",
       "  <tbody>\n",
       "    <tr>\n",
       "      <th>0</th>\n",
       "      <td>2023-04-30 10:47:00</td>\n",
       "      <td>Group_notification</td>\n",
       "      <td>Messages and calls are end-to-end encrypted. N...</td>\n",
       "    </tr>\n",
       "    <tr>\n",
       "      <th>1</th>\n",
       "      <td>2020-03-16 15:53:00</td>\n",
       "      <td>Group_notification</td>\n",
       "      <td>Group creator created group \"Kaar e kamal Team...</td>\n",
       "    </tr>\n",
       "    <tr>\n",
       "      <th>2</th>\n",
       "      <td>2023-04-30 10:45:00</td>\n",
       "      <td>Group_notification</td>\n",
       "      <td>Rana Bilal Yousaf Sponsership added you</td>\n",
       "    </tr>\n",
       "    <tr>\n",
       "      <th>3</th>\n",
       "      <td>2023-04-30 11:02:00</td>\n",
       "      <td>+92 341 6669613</td>\n",
       "      <td>Assalam O alaikum</td>\n",
       "    </tr>\n",
       "    <tr>\n",
       "      <th>4</th>\n",
       "      <td>2023-04-30 11:03:00</td>\n",
       "      <td>+92 341 6669613</td>\n",
       "      <td>@923214701483 @923060228783</td>\n",
       "    </tr>\n",
       "    <tr>\n",
       "      <th>5</th>\n",
       "      <td>2023-04-30 11:55:00</td>\n",
       "      <td>Group_notification</td>\n",
       "      <td>+92 326 1800716 joined using this group's invi...</td>\n",
       "    </tr>\n",
       "    <tr>\n",
       "      <th>6</th>\n",
       "      <td>2023-04-30 11:58:00</td>\n",
       "      <td>+92 305 1478150</td>\n",
       "      <td>B+ Blood  required</td>\n",
       "    </tr>\n",
       "    <tr>\n",
       "      <th>7</th>\n",
       "      <td>2023-04-30 12:04:00</td>\n",
       "      <td>+92 305 1478150</td>\n",
       "      <td>Urgent *</td>\n",
       "    </tr>\n",
       "    <tr>\n",
       "      <th>8</th>\n",
       "      <td>2023-04-30 12:04:00</td>\n",
       "      <td>Zainab Shahbaz</td>\n",
       "      <td>@923060228783 @923104163991</td>\n",
       "    </tr>\n",
       "    <tr>\n",
       "      <th>9</th>\n",
       "      <td>2023-04-30 12:21:00</td>\n",
       "      <td>+92 310 4734827</td>\n",
       "      <td>*Hey there📱👋!*</td>\n",
       "    </tr>\n",
       "    <tr>\n",
       "      <th>10</th>\n",
       "      <td>2023-04-30 12:21:00</td>\n",
       "      <td>+92 310 4734827</td>\n",
       "      <td>Kindly ye form fill kr den</td>\n",
       "    </tr>\n",
       "    <tr>\n",
       "      <th>11</th>\n",
       "      <td>2023-04-30 12:21:00</td>\n",
       "      <td>+92 310 4734827</td>\n",
       "      <td>Kisi ka research work hey ose chaheyen please</td>\n",
       "    </tr>\n",
       "    <tr>\n",
       "      <th>12</th>\n",
       "      <td>2023-04-30 14:55:00</td>\n",
       "      <td>Engr. M. Shahid</td>\n",
       "      <td>&lt;Media omitted&gt;</td>\n",
       "    </tr>\n",
       "    <tr>\n",
       "      <th>13</th>\n",
       "      <td>2023-04-30 14:56:00</td>\n",
       "      <td>afaqz Zaheer Kk</td>\n",
       "      <td>Ameen Sum Ameen 🥺🤲🏻</td>\n",
       "    </tr>\n",
       "    <tr>\n",
       "      <th>14</th>\n",
       "      <td>2023-04-30 15:18:00</td>\n",
       "      <td>Noor Awan ❤️</td>\n",
       "      <td>Ma'sha'allah Sirrrr</td>\n",
       "    </tr>\n",
       "  </tbody>\n",
       "</table>\n",
       "</div>"
      ],
      "text/plain": [
       "                  date                user  \\\n",
       "0  2023-04-30 10:47:00  Group_notification   \n",
       "1  2020-03-16 15:53:00  Group_notification   \n",
       "2  2023-04-30 10:45:00  Group_notification   \n",
       "3  2023-04-30 11:02:00     +92 341 6669613   \n",
       "4  2023-04-30 11:03:00     +92 341 6669613   \n",
       "5  2023-04-30 11:55:00  Group_notification   \n",
       "6  2023-04-30 11:58:00     +92 305 1478150   \n",
       "7  2023-04-30 12:04:00     +92 305 1478150   \n",
       "8  2023-04-30 12:04:00      Zainab Shahbaz   \n",
       "9  2023-04-30 12:21:00     +92 310 4734827   \n",
       "10 2023-04-30 12:21:00     +92 310 4734827   \n",
       "11 2023-04-30 12:21:00     +92 310 4734827   \n",
       "12 2023-04-30 14:55:00     Engr. M. Shahid   \n",
       "13 2023-04-30 14:56:00     afaqz Zaheer Kk   \n",
       "14 2023-04-30 15:18:00        Noor Awan ❤️   \n",
       "\n",
       "                                              message  \n",
       "0   Messages and calls are end-to-end encrypted. N...  \n",
       "1   Group creator created group \"Kaar e kamal Team...  \n",
       "2             Rana Bilal Yousaf Sponsership added you  \n",
       "3                                   Assalam O alaikum  \n",
       "4                         @923214701483 @923060228783  \n",
       "5   +92 326 1800716 joined using this group's invi...  \n",
       "6                                 B+ Blood  required   \n",
       "7                                            Urgent *  \n",
       "8                         @923060228783 @923104163991  \n",
       "9                                      *Hey there📱👋!*  \n",
       "10                         Kindly ye form fill kr den  \n",
       "11      Kisi ka research work hey ose chaheyen please  \n",
       "12                                    <Media omitted>  \n",
       "13                                Ameen Sum Ameen 🥺🤲🏻  \n",
       "14                                Ma'sha'allah Sirrrr  "
      ]
     },
     "execution_count": 9,
     "metadata": {},
     "output_type": "execute_result"
    }
   ],
   "source": [
    "df.head(15)"
   ]
  },
  {
   "cell_type": "code",
   "execution_count": 10,
   "id": "9ebe723d-8960-4407-beed-ad043f6a73bf",
   "metadata": {},
   "outputs": [
    {
     "data": {
      "text/html": [
       "<div>\n",
       "<style scoped>\n",
       "    .dataframe tbody tr th:only-of-type {\n",
       "        vertical-align: middle;\n",
       "    }\n",
       "\n",
       "    .dataframe tbody tr th {\n",
       "        vertical-align: top;\n",
       "    }\n",
       "\n",
       "    .dataframe thead th {\n",
       "        text-align: right;\n",
       "    }\n",
       "</style>\n",
       "<table border=\"1\" class=\"dataframe\">\n",
       "  <thead>\n",
       "    <tr style=\"text-align: right;\">\n",
       "      <th></th>\n",
       "      <th>date</th>\n",
       "      <th>user</th>\n",
       "      <th>message</th>\n",
       "      <th>year</th>\n",
       "    </tr>\n",
       "  </thead>\n",
       "  <tbody>\n",
       "    <tr>\n",
       "      <th>0</th>\n",
       "      <td>2023-04-30 10:47:00</td>\n",
       "      <td>Group_notification</td>\n",
       "      <td>Messages and calls are end-to-end encrypted. N...</td>\n",
       "      <td>2023</td>\n",
       "    </tr>\n",
       "    <tr>\n",
       "      <th>1</th>\n",
       "      <td>2020-03-16 15:53:00</td>\n",
       "      <td>Group_notification</td>\n",
       "      <td>Group creator created group \"Kaar e kamal Team...</td>\n",
       "      <td>2020</td>\n",
       "    </tr>\n",
       "    <tr>\n",
       "      <th>2</th>\n",
       "      <td>2023-04-30 10:45:00</td>\n",
       "      <td>Group_notification</td>\n",
       "      <td>Rana Bilal Yousaf Sponsership added you</td>\n",
       "      <td>2023</td>\n",
       "    </tr>\n",
       "    <tr>\n",
       "      <th>3</th>\n",
       "      <td>2023-04-30 11:02:00</td>\n",
       "      <td>+92 341 6669613</td>\n",
       "      <td>Assalam O alaikum</td>\n",
       "      <td>2023</td>\n",
       "    </tr>\n",
       "    <tr>\n",
       "      <th>4</th>\n",
       "      <td>2023-04-30 11:03:00</td>\n",
       "      <td>+92 341 6669613</td>\n",
       "      <td>@923214701483 @923060228783</td>\n",
       "      <td>2023</td>\n",
       "    </tr>\n",
       "  </tbody>\n",
       "</table>\n",
       "</div>"
      ],
      "text/plain": [
       "                 date                user  \\\n",
       "0 2023-04-30 10:47:00  Group_notification   \n",
       "1 2020-03-16 15:53:00  Group_notification   \n",
       "2 2023-04-30 10:45:00  Group_notification   \n",
       "3 2023-04-30 11:02:00     +92 341 6669613   \n",
       "4 2023-04-30 11:03:00     +92 341 6669613   \n",
       "\n",
       "                                             message  year  \n",
       "0  Messages and calls are end-to-end encrypted. N...  2023  \n",
       "1  Group creator created group \"Kaar e kamal Team...  2020  \n",
       "2            Rana Bilal Yousaf Sponsership added you  2023  \n",
       "3                                  Assalam O alaikum  2023  \n",
       "4                        @923214701483 @923060228783  2023  "
      ]
     },
     "execution_count": 10,
     "metadata": {},
     "output_type": "execute_result"
    }
   ],
   "source": [
    "df['year'] = df['date'].dt.year\n",
    "df.head()"
   ]
  },
  {
   "cell_type": "code",
   "execution_count": 11,
   "id": "6bd7dd4a-5504-45fa-8277-705d07148ca5",
   "metadata": {},
   "outputs": [],
   "source": [
    "df['month'] = df['date'].dt.month_name()"
   ]
  },
  {
   "cell_type": "code",
   "execution_count": 12,
   "id": "1198d1e5-9aed-4f5f-987a-c3b317481c3a",
   "metadata": {},
   "outputs": [],
   "source": [
    "df['day_n']=df['date'].dt.day_name()"
   ]
  },
  {
   "cell_type": "code",
   "execution_count": 13,
   "id": "b78d5095-9f9e-4eaf-8b9f-26d3b1740850",
   "metadata": {},
   "outputs": [],
   "source": [
    "df['day']=df['date'].dt.day"
   ]
  },
  {
   "cell_type": "code",
   "execution_count": 17,
   "id": "bc0c654b-d927-41ee-8b53-c5483b7fc4dc",
   "metadata": {},
   "outputs": [],
   "source": [
    "df['hour'] = df['date'].dt.strftime('%I %p') # This code uses the strftime function to format the hour in AM/PM format \n",
    "# and assigns it to the hour column in your DataFrame. The format string %I\n",
    "# represents the hour in 12-hour clock (01 to 12) and %p represents AM or PM."
   ]
  },
  {
   "cell_type": "code",
   "execution_count": 18,
   "id": "6d8a00ce-3d36-45fb-a958-84a29295ffef",
   "metadata": {},
   "outputs": [],
   "source": [
    "df['minute']=df['date'].dt.minute"
   ]
  },
  {
   "cell_type": "code",
   "execution_count": 19,
   "id": "62ee755e-dd8f-4d05-8c9a-98b47eedd8fe",
   "metadata": {},
   "outputs": [
    {
     "data": {
      "text/html": [
       "<div>\n",
       "<style scoped>\n",
       "    .dataframe tbody tr th:only-of-type {\n",
       "        vertical-align: middle;\n",
       "    }\n",
       "\n",
       "    .dataframe tbody tr th {\n",
       "        vertical-align: top;\n",
       "    }\n",
       "\n",
       "    .dataframe thead th {\n",
       "        text-align: right;\n",
       "    }\n",
       "</style>\n",
       "<table border=\"1\" class=\"dataframe\">\n",
       "  <thead>\n",
       "    <tr style=\"text-align: right;\">\n",
       "      <th></th>\n",
       "      <th>date</th>\n",
       "      <th>user</th>\n",
       "      <th>message</th>\n",
       "      <th>year</th>\n",
       "      <th>month</th>\n",
       "      <th>day_n</th>\n",
       "      <th>day</th>\n",
       "      <th>hour</th>\n",
       "      <th>minute</th>\n",
       "    </tr>\n",
       "  </thead>\n",
       "  <tbody>\n",
       "    <tr>\n",
       "      <th>0</th>\n",
       "      <td>2023-04-30 10:47:00</td>\n",
       "      <td>Group_notification</td>\n",
       "      <td>Messages and calls are end-to-end encrypted. N...</td>\n",
       "      <td>2023</td>\n",
       "      <td>April</td>\n",
       "      <td>Sunday</td>\n",
       "      <td>30</td>\n",
       "      <td>10 AM</td>\n",
       "      <td>47</td>\n",
       "    </tr>\n",
       "    <tr>\n",
       "      <th>1</th>\n",
       "      <td>2020-03-16 15:53:00</td>\n",
       "      <td>Group_notification</td>\n",
       "      <td>Group creator created group \"Kaar e kamal Team...</td>\n",
       "      <td>2020</td>\n",
       "      <td>March</td>\n",
       "      <td>Monday</td>\n",
       "      <td>16</td>\n",
       "      <td>03 PM</td>\n",
       "      <td>53</td>\n",
       "    </tr>\n",
       "    <tr>\n",
       "      <th>2</th>\n",
       "      <td>2023-04-30 10:45:00</td>\n",
       "      <td>Group_notification</td>\n",
       "      <td>Rana Bilal Yousaf Sponsership added you</td>\n",
       "      <td>2023</td>\n",
       "      <td>April</td>\n",
       "      <td>Sunday</td>\n",
       "      <td>30</td>\n",
       "      <td>10 AM</td>\n",
       "      <td>45</td>\n",
       "    </tr>\n",
       "    <tr>\n",
       "      <th>3</th>\n",
       "      <td>2023-04-30 11:02:00</td>\n",
       "      <td>+92 341 6669613</td>\n",
       "      <td>Assalam O alaikum</td>\n",
       "      <td>2023</td>\n",
       "      <td>April</td>\n",
       "      <td>Sunday</td>\n",
       "      <td>30</td>\n",
       "      <td>11 AM</td>\n",
       "      <td>2</td>\n",
       "    </tr>\n",
       "    <tr>\n",
       "      <th>4</th>\n",
       "      <td>2023-04-30 11:03:00</td>\n",
       "      <td>+92 341 6669613</td>\n",
       "      <td>@923214701483 @923060228783</td>\n",
       "      <td>2023</td>\n",
       "      <td>April</td>\n",
       "      <td>Sunday</td>\n",
       "      <td>30</td>\n",
       "      <td>11 AM</td>\n",
       "      <td>3</td>\n",
       "    </tr>\n",
       "  </tbody>\n",
       "</table>\n",
       "</div>"
      ],
      "text/plain": [
       "                 date                user  \\\n",
       "0 2023-04-30 10:47:00  Group_notification   \n",
       "1 2020-03-16 15:53:00  Group_notification   \n",
       "2 2023-04-30 10:45:00  Group_notification   \n",
       "3 2023-04-30 11:02:00     +92 341 6669613   \n",
       "4 2023-04-30 11:03:00     +92 341 6669613   \n",
       "\n",
       "                                             message  year  month   day_n  \\\n",
       "0  Messages and calls are end-to-end encrypted. N...  2023  April  Sunday   \n",
       "1  Group creator created group \"Kaar e kamal Team...  2020  March  Monday   \n",
       "2            Rana Bilal Yousaf Sponsership added you  2023  April  Sunday   \n",
       "3                                  Assalam O alaikum  2023  April  Sunday   \n",
       "4                        @923214701483 @923060228783  2023  April  Sunday   \n",
       "\n",
       "   day   hour  minute  \n",
       "0   30  10 AM      47  \n",
       "1   16  03 PM      53  \n",
       "2   30  10 AM      45  \n",
       "3   30  11 AM       2  \n",
       "4   30  11 AM       3  "
      ]
     },
     "execution_count": 19,
     "metadata": {},
     "output_type": "execute_result"
    }
   ],
   "source": [
    "df.head()"
   ]
  },
  {
   "cell_type": "code",
   "execution_count": 22,
   "id": "1981ab4c-cb0a-4157-8f9c-ce8ac9ef4c47",
   "metadata": {},
   "outputs": [
    {
     "data": {
      "text/plain": [
       "(2915, 9)"
      ]
     },
     "execution_count": 22,
     "metadata": {},
     "output_type": "execute_result"
    }
   ],
   "source": [
    "df[df['user'] == \"Rana Bilal Yousaf Sponsership\"].shape"
   ]
  },
  {
   "cell_type": "code",
   "execution_count": 26,
   "id": "65f971f8-09b6-4900-8ebd-4950a6ce73d3",
   "metadata": {},
   "outputs": [],
   "source": [
    "words = []\n",
    "for message in df['message']:\n",
    "    words.extend(message.split())"
   ]
  },
  {
   "cell_type": "code",
   "execution_count": 27,
   "id": "e1527a1f-83ec-4983-97e3-964f5e579a6e",
   "metadata": {},
   "outputs": [
    {
     "data": {
      "text/plain": [
       "119861"
      ]
     },
     "execution_count": 27,
     "metadata": {},
     "output_type": "execute_result"
    }
   ],
   "source": [
    "len(words)"
   ]
  },
  {
   "cell_type": "code",
   "execution_count": 28,
   "id": "1905f9ee-ba7d-4a8c-bac1-c31f8a45dffd",
   "metadata": {},
   "outputs": [
    {
     "name": "stdout",
     "output_type": "stream",
     "text": [
      "Collecting URLExtract\n",
      "  Downloading urlextract-1.8.0-py3-none-any.whl (21 kB)\n",
      "Requirement already satisfied: idna in c:\\users\\hi\\appdata\\local\\programs\\python\\python311\\lib\\site-packages (from URLExtract) (3.4)\n",
      "Collecting uritools (from URLExtract)\n",
      "  Downloading uritools-4.0.1-py3-none-any.whl (10 kB)\n",
      "Requirement already satisfied: platformdirs in c:\\users\\hi\\appdata\\local\\programs\\python\\python311\\lib\\site-packages (from URLExtract) (3.9.1)\n",
      "Collecting filelock (from URLExtract)\n",
      "  Obtaining dependency information for filelock from https://files.pythonhosted.org/packages/52/90/45223db4e1df30ff14e8aebf9a1bf0222da2e7b49e53692c968f36817812/filelock-3.12.3-py3-none-any.whl.metadata\n",
      "  Downloading filelock-3.12.3-py3-none-any.whl.metadata (2.7 kB)\n",
      "Downloading filelock-3.12.3-py3-none-any.whl (11 kB)\n",
      "Installing collected packages: uritools, filelock, URLExtract\n",
      "Successfully installed URLExtract-1.8.0 filelock-3.12.3 uritools-4.0.1\n"
     ]
    }
   ],
   "source": [
    "!pip install URLExtract\n"
   ]
  },
  {
   "cell_type": "code",
   "execution_count": 32,
   "id": "b09ff3c5-cf97-4b28-b93d-a498b8d9bbfd",
   "metadata": {},
   "outputs": [
    {
     "data": {
      "text/plain": [
       "['www.example.com',\n",
       " 'https://chat.whatsapp.com/ABC123',\n",
       " 'https://www.instagram.com/user123',\n",
       " 'https://www.linkedin.com/in/user456',\n",
       " 'https://www.facebook.com/user789',\n",
       " 'https://www.studysite.com']"
      ]
     },
     "execution_count": 32,
     "metadata": {},
     "output_type": "execute_result"
    }
   ],
   "source": [
    "import re\n",
    "from urlextract import URLExtract\n",
    "\n",
    "# Initialize the URL extractor\n",
    "extractor = URLExtract()\n",
    "\n",
    "# Sample text containing different types of URLs\n",
    "text = text = \"\"\"\n",
    "Let's check out some links:\n",
    "- Website: www.example.com\n",
    "- App link: myapp://page\n",
    "- Group link: https://chat.whatsapp.com/ABC123\n",
    "- Instagram: https://www.instagram.com/user123\n",
    "- LinkedIn: https://www.linkedin.com/in/user456\n",
    "- Facebook: https://www.facebook.com/user789\n",
    "- Study site: https://www.studysite.com\n",
    "\"\"\"\n",
    "\n",
    "# Use regex to find URLs of different types\n",
    "# urls = re.findall(r'(https?://\\S+|www\\.\\S+|\\S+://\\S+)', text)\n",
    "\n",
    "# Extract URLs using urlextract\n",
    "extracted_urls = extractor.find_urls(text)\n",
    "extracted_urls"
   ]
  },
  {
   "cell_type": "code",
   "execution_count": 37,
   "id": "4f551a22-2802-4e29-8b26-1779538851e9",
   "metadata": {},
   "outputs": [
    {
     "data": {
      "text/plain": [
       "['https://drive.google.com/drive/folders/1aEHKE-ovyiRxGvFE5e-8jYKrWXkOtp7A?usp=sharing',\n",
       " 'https://youtu.be/M8z05qYxBms',\n",
       " 'celebrate.it',\n",
       " 'https://docs.google.com/forms/d/e/1FAIpQLSeD3yLXdS76Kxzkd9RuDgJZdT0AFNZsyAHy7k7C8TU1DW_ZCg/viewform?usp=sf_link',\n",
       " 'https://youtube.com/@InformativeWorldTV11',\n",
       " 'https://docs.google.com/forms/d/e/1FAIpQLSeNqpLuk0QYBO5rUtpHBOylk0a1As-Oa5EyOYccocfdNRMi_Q/viewform',\n",
       " 'khyal.sy',\n",
       " 'https://docs.google.com/forms/d/e/1FAIpQLSeiTaaIGtVCTZqPXQWR1563xTuqgEucXOuyqZvbVF6rAs5COg/viewform?usp=sf_link',\n",
       " 'https://forms.gle/xjAUADxJpxngNeWi6',\n",
       " 'mera.case',\n",
       " 'income.You',\n",
       " 'guys.You',\n",
       " 'https://youtu.be/m_kicPwFr1s',\n",
       " 'https://youtu.be/4fweiM_E0Is',\n",
       " 'b.com',\n",
       " 'https://www.instagram.com/shahzadanjumofficial?r=nametag',\n",
       " 'apny.man',\n",
       " 'https://maps.app.goo.gl/spyJUWkCkqEjd6Wx6',\n",
       " 'https://chat.whatsapp.com/F1Nz6pnewqkE2zqx7vqFHr',\n",
       " 'https://docs.google.com/forms/d/e/1FAIpQLScMntFMkFOCGqZEdQ2Z_ePp8A6IZWYsCT64V0HI0O0o0Fh8eg/viewform',\n",
       " 'https://drive.google.com/drive/folders/19cLW96WaGc1JZpSxFv_f-0NEaMfWzfew?usp=sharing',\n",
       " 'https://drive.google.com/drive/folders/19cLW96WaGc1JZpSxFv_f-0NEaMfWzfew?usp=sharing',\n",
       " 'https://drive.google.com/drive/folders/19cLW96WaGc1JZpSxFv_f-0NEaMfWzfew?usp=sharing',\n",
       " 'https://chat.whatsapp.com/GjnU9lmOG0wCehTMacwTaU',\n",
       " 'https://youtu.be/xiTtXDZP2Vo',\n",
       " 'https://youtu.be/8c6GRDxa6HQ',\n",
       " 'main.is',\n",
       " 'https://chat.whatsapp.com/Km2y80DSjNz9iYkmWKfnER',\n",
       " 'https://www.instagram.com/p/CuG8MlkssZB/?igshid=MzRlODBiNWFlZA==',\n",
       " 'https://youtu.be/BzyKSLQmXjM',\n",
       " 'tome.ai',\n",
       " 'https://www.threads.net/@kaarekamal',\n",
       " 'https://m.facebook.com/story.php?story_fbid=pfbid08WVbLJ6xWQy2Ch2WPRXzH72yzNYrshjuHn8UDY36meiBEXzp4dMNYAq3kwSYdPhnl&id=100067304956304&sfnsn=scwspwa&mibextid=6aamW6',\n",
       " 'https://lnkd.in/eZPb2J-h',\n",
       " 'https://drive.google.com/drive/folders/1sv6_XnXuNs4nZH9hnG26y48dHRvri6Ip',\n",
       " 'Transparenthands.com',\n",
       " 'kru.ga',\n",
       " 'https://bit.ly/3dihm4P',\n",
       " 'https://forms.gle/HugQ77GSm4mYuRWQ8',\n",
       " 'https://www.fiverr.com/s/aE6Pxa',\n",
       " 'w.app',\n",
       " 'https://bit.ly/3dihm4P',\n",
       " 'https://youtu.be/rcVEAZwggG8',\n",
       " 'https://chat.whatsapp.com/I7mvX69MeKqJkp4Mexibpp',\n",
       " 'https://chat.whatsapp.com/FF1vEMM1p4V937Ev4gca7w',\n",
       " 'https://www.facebook.com/reel/638976931504059?s=chYV2B&fs=e&mibextid=DsZvEn',\n",
       " 'https://www.linkedin.com/in/kaar-e-kamal-welfare-organization-1abaa227b',\n",
       " 'https://forms.gle/n1wPM8FVfaMmGSJN7',\n",
       " 'https://fb.watch/ml_cowKSLD/?mibextid=6aamW6',\n",
       " 'https://youtu.be/U3U6aTynFYE',\n",
       " 'https://forms.gle/n1wPM8FVfaMmGSJN7',\n",
       " 'https://www.fiverr.com/s/KRND22',\n",
       " 'famlies.case']"
      ]
     },
     "execution_count": 37,
     "metadata": {},
     "output_type": "execute_result"
    }
   ],
   "source": [
    "links = []\n",
    "for message in df['message']:\n",
    "    links.extend(extractor.find_urls(message))\n"
   ]
  },
  {
   "cell_type": "code",
   "execution_count": 36,
   "id": "cda5280d-70a3-4705-a441-9efb26016772",
   "metadata": {},
   "outputs": [
    {
     "data": {
      "text/plain": [
       "53"
      ]
     },
     "execution_count": 36,
     "metadata": {},
     "output_type": "execute_result"
    }
   ],
   "source": [
    "len(links)"
   ]
  },
  {
   "cell_type": "code",
   "execution_count": 40,
   "id": "fa241c4a-9c46-4f9e-ba10-6d4199ad2f88",
   "metadata": {},
   "outputs": [
    {
     "data": {
      "text/plain": [
       "user\n",
       "Rana Bilal Yousaf Sponsership    2915\n",
       "+92 335 4060153                   922\n",
       "NABEEL UR REHMAN                  799\n",
       "+92 334 8883776                   692\n",
       "+92 304 0905712                   567\n",
       "Name: count, dtype: int64"
      ]
     },
     "execution_count": 40,
     "metadata": {},
     "output_type": "execute_result"
    }
   ],
   "source": [
    "x = df['user'].value_counts().head()\n",
    "x"
   ]
  },
  {
   "cell_type": "code",
   "execution_count": 41,
   "id": "76764c2f-bf7a-4491-a480-e4724cb859f8",
   "metadata": {},
   "outputs": [],
   "source": [
    "import matplotlib.pyplot as plt\n"
   ]
  },
  {
   "cell_type": "code",
   "execution_count": 46,
   "id": "373ce596-5943-4d54-aff3-33d744fbb7ce",
   "metadata": {},
   "outputs": [
    {
     "data": {
      "image/png": "[encoded data removed]",
      "text/plain": [
       "<Figure size 640x480 with 1 Axes>"
      ]
     },
     "metadata": {},
     "output_type": "display_data"
    }
   ],
   "source": [
    "name = x.index\n",
    "count = x.values\n",
    "plt.xticks(rotation='vertical')\n",
    "plt.bar(name, count)\n",
    "plt.show()"
   ]
  },
  {
   "cell_type": "code",
   "execution_count": 49,
   "id": "0955a8a1-7ac0-4e28-8bab-3d0271ec5bbc",
   "metadata": {},
   "outputs": [
    {
     "data": {
      "text/html": [
       "<div>\n",
       "<style scoped>\n",
       "    .dataframe tbody tr th:only-of-type {\n",
       "        vertical-align: middle;\n",
       "    }\n",
       "\n",
       "    .dataframe tbody tr th {\n",
       "        vertical-align: top;\n",
       "    }\n",
       "\n",
       "    .dataframe thead th {\n",
       "        text-align: right;\n",
       "    }\n",
       "</style>\n",
       "<table border=\"1\" class=\"dataframe\">\n",
       "  <thead>\n",
       "    <tr style=\"text-align: right;\">\n",
       "      <th></th>\n",
       "      <th>percent</th>\n",
       "      <th>count</th>\n",
       "    </tr>\n",
       "  </thead>\n",
       "  <tbody>\n",
       "    <tr>\n",
       "      <th>0</th>\n",
       "      <td>Rana Bilal Yousaf Sponsership</td>\n",
       "      <td>11.23</td>\n",
       "    </tr>\n",
       "    <tr>\n",
       "      <th>1</th>\n",
       "      <td>+92 335 4060153</td>\n",
       "      <td>3.55</td>\n",
       "    </tr>\n",
       "    <tr>\n",
       "      <th>2</th>\n",
       "      <td>NABEEL UR REHMAN</td>\n",
       "      <td>3.08</td>\n",
       "    </tr>\n",
       "    <tr>\n",
       "      <th>3</th>\n",
       "      <td>+92 334 8883776</td>\n",
       "      <td>2.67</td>\n",
       "    </tr>\n",
       "    <tr>\n",
       "      <th>4</th>\n",
       "      <td>+92 304 0905712</td>\n",
       "      <td>2.18</td>\n",
       "    </tr>\n",
       "    <tr>\n",
       "      <th>...</th>\n",
       "      <td>...</td>\n",
       "      <td>...</td>\n",
       "    </tr>\n",
       "    <tr>\n",
       "      <th>516</th>\n",
       "      <td>+92 326 9552891</td>\n",
       "      <td>0.00</td>\n",
       "    </tr>\n",
       "    <tr>\n",
       "      <th>517</th>\n",
       "      <td>+92 304 9991990</td>\n",
       "      <td>0.00</td>\n",
       "    </tr>\n",
       "    <tr>\n",
       "      <th>518</th>\n",
       "      <td>+92 312 4955425</td>\n",
       "      <td>0.00</td>\n",
       "    </tr>\n",
       "    <tr>\n",
       "      <th>519</th>\n",
       "      <td>+92 335 7536812</td>\n",
       "      <td>0.00</td>\n",
       "    </tr>\n",
       "    <tr>\n",
       "      <th>520</th>\n",
       "      <td>+92 316 4705689</td>\n",
       "      <td>0.00</td>\n",
       "    </tr>\n",
       "  </tbody>\n",
       "</table>\n",
       "<p>521 rows × 2 columns</p>\n",
       "</div>"
      ],
      "text/plain": [
       "                           percent  count\n",
       "0    Rana Bilal Yousaf Sponsership  11.23\n",
       "1                  +92 335 4060153   3.55\n",
       "2                 NABEEL UR REHMAN   3.08\n",
       "3                  +92 334 8883776   2.67\n",
       "4                  +92 304 0905712   2.18\n",
       "..                             ...    ...\n",
       "516                +92 326 9552891   0.00\n",
       "517                +92 304 9991990   0.00\n",
       "518                +92 312 4955425   0.00\n",
       "519                +92 335 7536812   0.00\n",
       "520                +92 316 4705689   0.00\n",
       "\n",
       "[521 rows x 2 columns]"
      ]
     },
     "execution_count": 49,
     "metadata": {},
     "output_type": "execute_result"
    }
   ],
   "source": [
    "round((df['user'].value_counts()/df['user'].shape[0])*100,2).reset_index().rename(columns={'count': 'percent', 'user': 'name'}) "
   ]
  },
  {
   "cell_type": "code",
   "execution_count": null,
   "id": "4e9737df-d737-4646-ba5f-c6ce266c5c26",
   "metadata": {},
   "outputs": [],
   "source": []
  }
 ],
 "metadata": {
  "kernelspec": {
   "display_name": "Python 3 (ipykernel)",
   "language": "python",
   "name": "python3"
  },
  "language_info": {
   "codemirror_mode": {
    "name": "ipython",
    "version": 3
   },
   "file_extension": ".py",
   "mimetype": "text/x-python",
   "name": "python",
   "nbconvert_exporter": "python",
   "pygments_lexer": "ipython3",
   "version": "3.11.2"
  }
 },
 "nbformat": 4,
 "nbformat_minor": 5
}
